{
 "cells": [
  {
   "cell_type": "markdown",
   "metadata": {},
   "source": [
    "# Test Model"
   ]
  },
  {
   "cell_type": "markdown",
   "metadata": {},
   "source": [
    "#### Melakukan inference atau testing yang menghasilkan output berupa kelas kategorikal (contoh: negatif, netral, dan positif)."
   ]
  },
  {
   "cell_type": "code",
   "execution_count": 5,
   "metadata": {},
   "outputs": [
    {
     "name": "stdout",
     "output_type": "stream",
     "text": [
      "Teks setelah preprocessing: aplikasi sangat buruk nge lag terus\n",
      "Hasil prediksi: Negatif\n"
     ]
    }
   ],
   "source": [
    "from joblib import load\n",
    "from sklearn.feature_extraction.text import TfidfVectorizer\n",
    "\n",
    "# Muat model yang telah disimpan\n",
    "model = load('model_rf.joblib')\n",
    "\n",
    "# Muat TF-IDF Vectorizer yang telah disimpan\n",
    "vectorizer = load('tfidf_vectorizer.joblib')\n",
    "\n",
    "# Tetapkan input teks secara manual\n",
    "test_input = \"Aplikasi sangat buruk, nge-lag terus!\"\n",
    "\n",
    "# Preprocess text\n",
    "test_input_preprocessed = preprocess_text(test_input)\n",
    "\n",
    "# Tampilkan hasil preprocessing\n",
    "print(f'Teks setelah preprocessing: {test_input_preprocessed}')\n",
    "\n",
    "# Transformasi input teks yang telah dipreprocessing menjadi fitur\n",
    "test_input_transformed = vectorizer.transform([test_input_preprocessed])\n",
    "\n",
    "# Buat prediksi\n",
    "prediksi = model.predict(test_input_transformed)\n",
    "\n",
    "# Ambil hasil prediksi\n",
    "hasil_prediksi = prediksi[0]\n",
    "\n",
    "# Map hasil prediksi ke label sentimen menggunakan if-else\n",
    "if hasil_prediksi == -1:\n",
    "    sentimen = 'Negatif'\n",
    "elif hasil_prediksi == 0:\n",
    "    sentimen = 'Netral'\n",
    "elif hasil_prediksi == 1:\n",
    "    sentimen = 'Positif'\n",
    "else:\n",
    "    sentimen = 'Label tidak dikenali'\n",
    "\n",
    "# Cetak hasil sentimen\n",
    "print(f'Hasil prediksi: {sentimen}')\n"
   ]
  }
 ],
 "metadata": {
  "kernelspec": {
   "display_name": "capstone",
   "language": "python",
   "name": "python3"
  },
  "language_info": {
   "codemirror_mode": {
    "name": "ipython",
    "version": 3
   },
   "file_extension": ".py",
   "mimetype": "text/x-python",
   "name": "python",
   "nbconvert_exporter": "python",
   "pygments_lexer": "ipython3",
   "version": "3.9.20"
  }
 },
 "nbformat": 4,
 "nbformat_minor": 2
}
